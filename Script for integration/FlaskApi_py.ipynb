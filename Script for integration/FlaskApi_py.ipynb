{
  "cells": [
    {
      "cell_type": "code",
      "execution_count": 26,
      "metadata": {
        "id": "bjqRhVLzr1kc"
      },
      "outputs": [],
      "source": [
        "from flask import Flask, request, jsonify\n",
        "import numpy as np\n",
        "from sklearn.metrics.pairwise import cosine_similarity\n",
        "import json\n",
        "import pandas as pd\n",
        "from flask_ngrok import run_with_ngrok\n",
        "from pyngrok import ngrok\n",
        "\n"
      ]
    },
    {
      "cell_type": "code",
      "source": [
        "!pip install pyngrok\n"
      ],
      "metadata": {
        "id": "Uq0n26jZZ4D1",
        "outputId": "00b6d95c-eee1-4e11-8b41-c1cea0ed0515",
        "colab": {
          "base_uri": "https://localhost:8080/"
        }
      },
      "execution_count": 25,
      "outputs": [
        {
          "output_type": "stream",
          "name": "stdout",
          "text": [
            "Collecting pyngrok\n",
            "  Downloading pyngrok-6.0.0.tar.gz (681 kB)\n",
            "\u001b[?25l     \u001b[90m━━━━━━━━━━━━━━━━━━━━━━━━━━━━━━━━━━━━━━━━\u001b[0m \u001b[32m0.0/681.2 kB\u001b[0m \u001b[31m?\u001b[0m eta \u001b[36m-:--:--\u001b[0m\r\u001b[2K     \u001b[91m━━━━━━━━━━━━\u001b[0m\u001b[91m╸\u001b[0m\u001b[90m━━━━━━━━━━━━━━━━━━━━━━━━━━\u001b[0m \u001b[32m225.3/681.2 kB\u001b[0m \u001b[31m6.8 MB/s\u001b[0m eta \u001b[36m0:00:01\u001b[0m\r\u001b[2K     \u001b[90m━━━━━━━━━━━━━━━━━━━━━━━━━━━━━━━━━━━━━━\u001b[0m \u001b[32m681.2/681.2 kB\u001b[0m \u001b[31m11.6 MB/s\u001b[0m eta \u001b[36m0:00:00\u001b[0m\n",
            "\u001b[?25h  Preparing metadata (setup.py) ... \u001b[?25l\u001b[?25hdone\n",
            "Requirement already satisfied: PyYAML in /usr/local/lib/python3.10/dist-packages (from pyngrok) (6.0.1)\n",
            "Building wheels for collected packages: pyngrok\n",
            "  Building wheel for pyngrok (setup.py) ... \u001b[?25l\u001b[?25hdone\n",
            "  Created wheel for pyngrok: filename=pyngrok-6.0.0-py3-none-any.whl size=19867 sha256=4f784c9d93afd754e0aa83a55c4792956faed95d315a73ed9ea6c356072667ed\n",
            "  Stored in directory: /root/.cache/pip/wheels/5c/42/78/0c3d438d7f5730451a25f7ac6cbf4391759d22a67576ed7c2c\n",
            "Successfully built pyngrok\n",
            "Installing collected packages: pyngrok\n",
            "Successfully installed pyngrok-6.0.0\n"
          ]
        }
      ]
    },
    {
      "cell_type": "code",
      "execution_count": 19,
      "metadata": {
        "colab": {
          "base_uri": "https://localhost:8080/",
          "height": 528
        },
        "id": "jxQPGAYk7U1c",
        "outputId": "20d1f2ab-7805-417e-9813-ad7812186300"
      },
      "outputs": [
        {
          "output_type": "stream",
          "name": "stdout",
          "text": [
            "Found existing installation: flask-ngrok 0.0.25\n",
            "Uninstalling flask-ngrok-0.0.25:\n",
            "  Would remove:\n",
            "    /usr/local/lib/python3.10/dist-packages/flask_ngrok-0.0.25.dist-info/*\n",
            "    /usr/local/lib/python3.10/dist-packages/flask_ngrok.py\n",
            "Proceed (Y/n)? Y\n",
            "  Successfully uninstalled flask-ngrok-0.0.25\n",
            "Collecting flask-ngrok\n",
            "  Using cached flask_ngrok-0.0.25-py3-none-any.whl (3.1 kB)\n",
            "Requirement already satisfied: Flask>=0.8 in /usr/local/lib/python3.10/dist-packages (from flask-ngrok) (2.2.5)\n",
            "Requirement already satisfied: requests in /usr/local/lib/python3.10/dist-packages (from flask-ngrok) (2.31.0)\n",
            "Requirement already satisfied: Werkzeug>=2.2.2 in /usr/local/lib/python3.10/dist-packages (from Flask>=0.8->flask-ngrok) (2.3.7)\n",
            "Requirement already satisfied: Jinja2>=3.0 in /usr/local/lib/python3.10/dist-packages (from Flask>=0.8->flask-ngrok) (3.1.2)\n",
            "Requirement already satisfied: itsdangerous>=2.0 in /usr/local/lib/python3.10/dist-packages (from Flask>=0.8->flask-ngrok) (2.1.2)\n",
            "Requirement already satisfied: click>=8.0 in /usr/local/lib/python3.10/dist-packages (from Flask>=0.8->flask-ngrok) (8.1.7)\n",
            "Requirement already satisfied: charset-normalizer<4,>=2 in /usr/local/lib/python3.10/dist-packages (from requests->flask-ngrok) (3.2.0)\n",
            "Requirement already satisfied: idna<4,>=2.5 in /usr/local/lib/python3.10/dist-packages (from requests->flask-ngrok) (3.4)\n",
            "Requirement already satisfied: urllib3<3,>=1.21.1 in /usr/local/lib/python3.10/dist-packages (from requests->flask-ngrok) (2.0.4)\n",
            "Requirement already satisfied: certifi>=2017.4.17 in /usr/local/lib/python3.10/dist-packages (from requests->flask-ngrok) (2023.7.22)\n",
            "Requirement already satisfied: MarkupSafe>=2.0 in /usr/local/lib/python3.10/dist-packages (from Jinja2>=3.0->Flask>=0.8->flask-ngrok) (2.1.3)\n",
            "Installing collected packages: flask-ngrok\n",
            "Successfully installed flask-ngrok-0.0.25\n"
          ]
        },
        {
          "output_type": "display_data",
          "data": {
            "application/vnd.colab-display-data+json": {
              "pip_warning": {
                "packages": [
                  "flask_ngrok"
                ]
              }
            }
          },
          "metadata": {}
        }
      ],
      "source": [
        "!pip uninstall flask-ngrok\n",
        "!pip install flask-ngrok"
      ]
    },
    {
      "cell_type": "code",
      "execution_count": 20,
      "metadata": {
        "id": "3apqhUgniOtR"
      },
      "outputs": [],
      "source": [
        "preprocessed_data = pd.read_csv('/content/drive/MyDrive/Dissertation/preprocessed_data.csv')"
      ]
    },
    {
      "cell_type": "code",
      "execution_count": 21,
      "metadata": {
        "id": "8SFsBhZelGO4"
      },
      "outputs": [],
      "source": [
        "original_data = pd.read_csv('/content/drive/MyDrive/Dissertation/synthetic_updated_data.csv')"
      ]
    },
    {
      "cell_type": "code",
      "execution_count": 22,
      "metadata": {
        "id": "FyncJgMqlWiA"
      },
      "outputs": [],
      "source": [
        "#Will use this dataset for mapping\n",
        "original_data['Budget'] = original_data['Transportationcost'] + original_data['Accommodationcost']\n",
        "original_data = original_data.drop(['Accommodationcost', 'Transportationcost'], axis=1)"
      ]
    },
    {
      "cell_type": "code",
      "execution_count": null,
      "metadata": {
        "id": "3YOC7pCwmDeT"
      },
      "outputs": [],
      "source": [
        "# User's input (replace these values with user's input)\n",
        "user_gender = 'Male'\n",
        "user_nationality = 'American'\n",
        "user_accommodation = 'Hotel'\n",
        "user_transportation = 'Plane'\n",
        "user_budget = 1800\n",
        "#user_duration_of_vacation = 7\n",
        "#user_age = 35.0"
      ]
    },
    {
      "cell_type": "code",
      "execution_count": null,
      "metadata": {
        "id": "bmWcA9f3mNB_"
      },
      "outputs": [],
      "source": [
        "#Create a DataFrame containing the user's input\n",
        "user_input = pd.DataFrame({\n",
        "    'Travelergender': [user_gender],\n",
        "    'Travelernationality': [user_nationality],\n",
        "    'Accommodationtype': [user_accommodation],\n",
        "    'Transportationtype': [user_transportation],\n",
        "    'Budget': [user_budget],\n",
        "    #'Duration(days)': [user_duration_of_vacation],\n",
        "    #'Travelerage': [user_age]\n",
        "})"
      ]
    },
    {
      "cell_type": "code",
      "source": [
        "original_data.dtypes"
      ],
      "metadata": {
        "colab": {
          "base_uri": "https://localhost:8080/"
        },
        "id": "Wviby0PKHstO",
        "outputId": "9f520577-15b2-49c2-b62e-d5b8363c8a30"
      },
      "execution_count": 8,
      "outputs": [
        {
          "output_type": "execute_result",
          "data": {
            "text/plain": [
              "Destination             object\n",
              "Duration(days)           int64\n",
              "Travelerage            float64\n",
              "Travelergender          object\n",
              "Travelernationality     object\n",
              "Accommodationtype       object\n",
              "Transportationtype      object\n",
              "Budget                   int64\n",
              "dtype: object"
            ]
          },
          "metadata": {},
          "execution_count": 8
        }
      ]
    },
    {
      "cell_type": "code",
      "execution_count": 28,
      "metadata": {
        "colab": {
          "base_uri": "https://localhost:8080/"
        },
        "id": "4DQNXl5DkfZb",
        "outputId": "9001cc01-14e9-4492-9924-d8f9238336ce"
      },
      "outputs": [
        {
          "output_type": "stream",
          "name": "stdout",
          "text": [
            " * Serving Flask app '__main__'\n",
            " * Debug mode: off\n"
          ]
        },
        {
          "output_type": "stream",
          "name": "stderr",
          "text": [
            "INFO:werkzeug:\u001b[31m\u001b[1mWARNING: This is a development server. Do not use it in a production deployment. Use a production WSGI server instead.\u001b[0m\n",
            " * Running on http://127.0.0.1:5000\n",
            "INFO:werkzeug:\u001b[33mPress CTRL+C to quit\u001b[0m\n"
          ]
        },
        {
          "output_type": "stream",
          "name": "stdout",
          "text": [
            " * Running on http://c77f-34-31-24-255.ngrok-free.app\n",
            " * Traffic stats available on http://127.0.0.1:4040\n"
          ]
        },
        {
          "output_type": "stream",
          "name": "stderr",
          "text": [
            "INFO:werkzeug:127.0.0.1 - - [29/Aug/2023 03:48:20] \"POST /recommend HTTP/1.1\" 200 -\n"
          ]
        },
        {
          "output_type": "stream",
          "name": "stdout",
          "text": [
            "  Travelergender Travelernationality Accommodationtype Transportationtype  \\\n",
            "0           Male            American             Hotel              Plane   \n",
            "\n",
            "  Budget  \n",
            "0   1800  \n",
            "   Travelergender  Travelernationality  Accommodationtype  Transportationtype  \\\n",
            "0               1                    0                  3                   4   \n",
            "\n",
            "  Budget  \n",
            "0   1800  \n",
            "Travelergender         int64\n",
            "Travelernationality    int64\n",
            "Accommodationtype      int64\n",
            "Transportationtype     int64\n",
            "Budget                 int64\n",
            "dtype: object\n",
            "   Travelergender  Travelernationality  Accommodationtype  Transportationtype  \\\n",
            "0               1                    0                  3                   4   \n",
            "\n",
            "     Budget  \n",
            "0  0.150508  \n",
            "[[1.         0.61017451 0.3055519  ... 0.74174602 0.1791602  0.11053552]]\n"
          ]
        },
        {
          "output_type": "stream",
          "name": "stderr",
          "text": [
            "INFO:werkzeug:127.0.0.1 - - [29/Aug/2023 04:53:56] \"POST /recommend HTTP/1.1\" 200 -\n"
          ]
        },
        {
          "output_type": "stream",
          "name": "stdout",
          "text": [
            "  Travelergender Travelernationality Accommodationtype Transportationtype  \\\n",
            "0           Male            American             Hotel              Plane   \n",
            "\n",
            "  Budget  \n",
            "0   1800  \n",
            "   Travelergender  Travelernationality  Accommodationtype  Transportationtype  \\\n",
            "0               1                    0                  3                   4   \n",
            "\n",
            "  Budget  \n",
            "0   1800  \n",
            "Travelergender         int64\n",
            "Travelernationality    int64\n",
            "Accommodationtype      int64\n",
            "Transportationtype     int64\n",
            "Budget                 int64\n",
            "dtype: object\n",
            "   Travelergender  Travelernationality  Accommodationtype  Transportationtype  \\\n",
            "0               1                    0                  3                   4   \n",
            "\n",
            "     Budget  \n",
            "0  0.150508  \n",
            "[[1.         0.61017451 0.3055519  ... 0.74174602 0.1791602  0.11053552]]\n"
          ]
        },
        {
          "output_type": "stream",
          "name": "stderr",
          "text": [
            "INFO:werkzeug:127.0.0.1 - - [29/Aug/2023 04:54:53] \"POST /recommend HTTP/1.1\" 200 -\n"
          ]
        },
        {
          "output_type": "stream",
          "name": "stdout",
          "text": [
            "  Travelergender Travelernationality Accommodationtype Transportationtype  \\\n",
            "0           Male            American             Hotel              Plane   \n",
            "\n",
            "  Budget  \n",
            "0   1800  \n",
            "   Travelergender  Travelernationality  Accommodationtype  Transportationtype  \\\n",
            "0               1                    0                  3                   4   \n",
            "\n",
            "  Budget  \n",
            "0   1800  \n",
            "Travelergender         int64\n",
            "Travelernationality    int64\n",
            "Accommodationtype      int64\n",
            "Transportationtype     int64\n",
            "Budget                 int64\n",
            "dtype: object\n",
            "   Travelergender  Travelernationality  Accommodationtype  Transportationtype  \\\n",
            "0               1                    0                  3                   4   \n",
            "\n",
            "     Budget  \n",
            "0  0.150508  \n",
            "[[1.         0.61017451 0.3055519  ... 0.74174602 0.1791602  0.11053552]]\n"
          ]
        }
      ],
      "source": [
        "app = Flask(__name__)\n",
        "\n",
        "run_with_ngrok(app)  # Start ngrok when app is run\n",
        "\n",
        "@app.route('/recommend', methods=['POST'])\n",
        "def recommend_destinations():\n",
        "    user_input = request.json  # User input received from Android app\n",
        "    #user_vector = preprocess_user_input(user_input)  # Preprocess user input\n",
        "    user_input_df = pd.DataFrame([user_input])\n",
        "    print(user_input_df)\n",
        "    #Mapping all the categorical column\n",
        "    nationality_mapping = {'American': 0, 'Canadian': 7, 'Korean': 23, 'British': 4, 'Vietnamese': 40, 'Australian': 1, 'Brazilian': 3, 'Dutch': 10, 'Emirati': 11, 'Mexican': 24, 'Spanish': 33, 'Chinese': 9, 'German': 13, 'Moroccan': 25, 'Scottish': 27, 'Japanese': 22, 'Italian': 19, 'Indian': 17, 'South Korean': 31, 'French': 12, 'South African': 29, 'Taiwanese': 35, 'Indonesian': 18, 'USA': 37, 'Canada': 6, 'South Korea': 30, 'UK': 36, 'China': 8, 'Taiwan': 34, 'Japan': 21, 'Spain': 32, 'Brazil': 2, 'Germany': 14, 'Hong Kong': 16, 'United Kingdom': 39, 'Singapore': 28, 'Italy': 20, 'Greece': 15, 'United Arab Emirates': 38, 'Cambodia': 5, 'New Zealander': 26}\n",
        "    user_input_df['Travelernationality'] = user_input_df['Travelernationality'].map(nationality_mapping)\n",
        "\n",
        "    accommodationType_mapping = {'Airbnb': 0, 'Guesthouse': 1, 'Hostel': 2, 'Hotel': 3, 'Resort': 4, 'Riad': 5, 'Vacation rental': 6, 'Villa': 7}\n",
        "    user_input_df['Accommodationtype'] = user_input_df['Accommodationtype'].map(accommodationType_mapping)\n",
        "\n",
        "    transporationType_mapping = {'Bus': 0, 'Car': 1, 'Car rental': 2, 'Ferry': 3, 'Plane': 4, 'Subway': 5, 'Train': 6}\n",
        "    user_input_df['Transportationtype'] = user_input_df['Transportationtype'].map(transporationType_mapping)\n",
        "\n",
        "    gender_mapping = {'Female': 0, 'Male': 1}\n",
        "    user_input_df['Travelergender'] = user_input_df['Travelergender'].map(gender_mapping)\n",
        "    print(user_input_df)\n",
        "\n",
        "    #As the original data type of budget column in user input will be object, need to convert it into int or float.\n",
        "    user_input_df['Budget'] = user_input_df['Budget'].astype(int)\n",
        "\n",
        "     # Original 'Budget' values in user_input data\n",
        "    original_budgets = user_input_df['Budget']  # Replace with your actual 'Budget' values\n",
        "\n",
        "  #Getting min and max value of budget column to calculate normalisation for user input\n",
        "    print(user_input_df.dtypes)\n",
        "    min_of_budget = original_data['Budget'].min()\n",
        "    max_of_budget = original_data['Budget'].max()\n",
        "  # Calculate min-max scaled values\n",
        "    value = [(x - min_of_budget) / (max_of_budget - min_of_budget) for x in original_budgets]\n",
        "\n",
        "    user_input_df['Budget'] = value\n",
        "\n",
        "    print(user_input_df)\n",
        "\n",
        "    # Calculate cosine similarity with all destinations\n",
        "    cosine_scores = cosine_similarity(user_input_df, preprocessed_data.drop(columns=['Destination']))\n",
        "    print(cosine_scores)\n",
        "    # Get indices of top recommended destinations\n",
        "    top_indices = np.argsort(cosine_scores[0])[::-1][:5]\n",
        "\n",
        "    # Get the corresponding destination names\n",
        "    recommended_destinations = preprocessed_data['Destination'].iloc[top_indices]\n",
        "\n",
        "    # Return recommendations in JSON format\n",
        "    return jsonify({'recommendations': recommended_destinations.tolist()})\n",
        "\n",
        "if __name__ == '__main__':\n",
        "  app.run()"
      ]
    },
    {
      "cell_type": "code",
      "source": [
        "!ngrok authtoken 2U7lYbiZQbpVQ3nYYkwlzzu6Eqx_395SQMWDe8R8YqfVcK4Pw"
      ],
      "metadata": {
        "colab": {
          "base_uri": "https://localhost:8080/"
        },
        "id": "sWTVG6_WvGmc",
        "outputId": "effe0fd4-bad0-4db1-de9e-b6be2875db5b"
      },
      "execution_count": 27,
      "outputs": [
        {
          "output_type": "stream",
          "name": "stdout",
          "text": [
            "Authtoken saved to configuration file: /root/.ngrok2/ngrok.yml\n"
          ]
        }
      ]
    },
    {
      "cell_type": "code",
      "execution_count": 23,
      "metadata": {
        "id": "ZOUTlxFOxaRb",
        "colab": {
          "base_uri": "https://localhost:8080/"
        },
        "outputId": "ec6ab90e-667a-4e51-b576-6778dec9a5d1"
      },
      "outputs": [
        {
          "output_type": "stream",
          "name": "stdout",
          "text": [
            "/bin/bash: line 1: ngrok: command not found\n"
          ]
        }
      ],
      "source": [
        "!ngrok config add-authtoken 2U7lYbiZQbpVQ3nYYkwlzzu6Eqx_395SQMWDe8R8YqfVcK4Pw"
      ]
    },
    {
      "cell_type": "code",
      "source": [],
      "metadata": {
        "id": "6AV2lxRAYjQ2"
      },
      "execution_count": null,
      "outputs": []
    }
  ],
  "metadata": {
    "colab": {
      "provenance": []
    },
    "kernelspec": {
      "display_name": "Python 3",
      "name": "python3"
    },
    "language_info": {
      "name": "python"
    }
  },
  "nbformat": 4,
  "nbformat_minor": 0
}